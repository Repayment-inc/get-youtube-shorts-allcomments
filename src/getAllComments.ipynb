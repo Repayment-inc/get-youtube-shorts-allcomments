{
 "cells": [
  {
   "cell_type": "code",
   "execution_count": null,
   "id": "19681e20",
   "metadata": {
    "vscode": {
     "languageId": "plaintext"
    }
   },
   "outputs": [],
   "source": [
    "import pandas as pd\n",
    "from googleapiclient.discovery import build\n",
    "\n",
    "api_key = 'YOUR_API_KEY'  # 自分のAPIキーに置き換えてください\n",
    "video_id = 'SHORTS_VIDEO_ID'  # YouTube Shortsの動画IDに置き換えてください\n",
    "\n",
    "youtube = build('youtube', 'v3', developerKey=api_key)\n",
    "\n",
    "# 動画の詳細を取得\n",
    "video_request = youtube.videos().list(\n",
    "    part='snippet,statistics',\n",
    "    id=video_id\n",
    ")\n",
    "\n",
    "video_response = video_request.execute()\n",
    "\n",
    "video_details = []\n",
    "for item in video_response['items']:\n",
    "    title = item['snippet']['title']\n",
    "    description = item['snippet']['description']\n",
    "    view_count = item['statistics']['viewCount']\n",
    "    like_count = item['statistics']['likeCount']\n",
    "    comment_count = item['statistics']['commentCount']\n",
    "\n",
    "    video_details.append([title, description, view_count, like_count, comment_count])\n",
    "\n",
    "video_df = pd.DataFrame(video_details, columns=['Title', 'Description', 'View Count', 'Like Count', 'Comment Count'])\n",
    "print(video_df)\n",
    "\n",
    "print(\"----------------\")\n",
    "\n",
    "# コメントを取得\n",
    "comments_request = youtube.commentThreads().list(\n",
    "    part='snippet',\n",
    "    videoId=video_id,\n",
    "    maxResults=1000,\n",
    "    textFormat='plainText'\n",
    ")\n",
    "\n",
    "comments_response = comments_request.execute()\n",
    "\n",
    "comment_data = []\n",
    "for comment in comments_response['items']:\n",
    "    username = comment['snippet']['topLevelComment']['snippet']['authorDisplayName']\n",
    "    likes = comment['snippet']['topLevelComment']['snippet']['likeCount']\n",
    "    content = comment['snippet']['topLevelComment']['snippet']['textDisplay']\n",
    "\n",
    "    comment_data.append([username, likes, content])\n",
    "\n",
    "comments_df = pd.DataFrame(comment_data, columns=['Username', 'Likes', 'Comment'])\n",
    "print(comments_df)\n",
    "\n",
    "comments_df.to_csv('YOUR_CSV_PATH')\n"
   ]
  }
 ],
 "metadata": {
  "kernelspec": {
   "display_name": "Python 3 (ipykernel)",
   "language": "python",
   "name": "python3"
  },
  "language_info": {
   "codemirror_mode": {
    "name": "ipython",
    "version": 3
   },
   "file_extension": ".py",
   "mimetype": "text/x-python",
   "name": "python",
   "nbconvert_exporter": "python",
   "pygments_lexer": "ipython3",
   "version": "3.9.13"
  }
 },
 "nbformat": 4,
 "nbformat_minor": 5
}
